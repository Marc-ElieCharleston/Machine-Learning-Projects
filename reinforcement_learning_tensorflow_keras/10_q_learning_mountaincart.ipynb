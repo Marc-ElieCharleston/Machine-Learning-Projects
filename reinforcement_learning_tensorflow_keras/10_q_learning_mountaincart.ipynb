{
 "cells": [
  {
   "cell_type": "markdown",
   "id": "e0f70e03",
   "metadata": {},
   "source": [
    "___\n",
    "\n",
    "<a href='http://www.pieriandata.com'><img src='../Pierian_Data_Logo.png'/></a>\n",
    "___\n",
    "<center><em>Copyright by Pierian Data Inc.</em></center>\n",
    "<center><em>For more information, visit us at <a href='http://www.pieriandata.com'>www.pieriandata.com</a></em></center>"
   ]
  },
  {
   "cell_type": "markdown",
   "id": "7a938939",
   "metadata": {},
   "source": [
    "# Q Learning Exercise "
   ]
  },
  {
   "cell_type": "markdown",
   "id": "a82c5575",
   "metadata": {},
   "source": [
    "**We'll be reviewing and testing your skills with Q-Learning on a continuous space! Please feel free to reference the lecture notebooks you are definitely not expected to be able to fill out all this code from memory, just the ability to understand the core concepts and apply it to a different situation.**\n",
    "\n",
    "--------------------\n",
    "\n",
    "## Complete the tasks in bold below."
   ]
  },
  {
   "cell_type": "markdown",
   "id": "2147ae69",
   "metadata": {},
   "source": [
    "In this exercise we take a look at the MountainCar-v0 (https://gym.openai.com/envs/MountainCar-v0/) game again. That is the game from our original discussion of OpenAi gym environments for which we created an agent manually.\n",
    "Remember, that the goal is to reach the top of the mountain within some time limit\n",
    "\n",
    "-----"
   ]
  },
  {
   "cell_type": "markdown",
   "id": "afc8b2ce",
   "metadata": {},
   "source": [
    "**TASK: Import any relevant libraries you think you might need.** <br />\n"
   ]
  },
  {
   "cell_type": "code",
   "execution_count": 2,
   "id": "11e0d486",
   "metadata": {},
   "outputs": [],
   "source": [
    "import time\n",
    "import matplotlib.pyplot as plt\n",
    "\n",
    "import numpy as np\n",
    "import gym"
   ]
  },
  {
   "cell_type": "markdown",
   "id": "4c6f7e28",
   "metadata": {},
   "source": [
    "**TASK: Create the gym mountain car environment** <br />\n"
   ]
  },
  {
   "cell_type": "code",
   "execution_count": 3,
   "id": "d001763e",
   "metadata": {},
   "outputs": [
    {
     "name": "stderr",
     "output_type": "stream",
     "text": [
      "C:\\Users\\pc\\anaconda3\\envs\\my_rl_env\\lib\\site-packages\\gym\\utils\\passive_env_checker.py:98: UserWarning: \u001b[33mWARN: We recommend you to use a symmetric and normalized Box action space (range=[-1, 1]) https://stable-baselines3.readthedocs.io/en/master/guide/rl_tips.html\u001b[0m\n",
      "  \"We recommend you to use a symmetric and normalized Box action space (range=[-1, 1]) \"\n"
     ]
    }
   ],
   "source": [
    "env_name = \"MountainCar-v0\"\n",
    "env = gym.make(env_name)"
   ]
  },
  {
   "cell_type": "markdown",
   "id": "171192c3",
   "metadata": {},
   "source": [
    "**TASK: Write a function to create a numpy array holding the bins for the observations of the car (position and velocity).** <br />\n",
    "Feel free to explore different bins per observation spacings.\n",
    "The function should take one argument which acts as the bins per observation <br />\n",
    "Hint: You can find the observations here: https://github.com/openai/gym/blob/master/gym/envs/classic_control/mountain_car.py\n",
    "<br /> Hint: You will probably need around 25 bins for good results, but feel free to use less to reduce training time. <br />\n"
   ]
  },
  {
   "cell_type": "code",
   "execution_count": 29,
   "id": "e4e0ab04",
   "metadata": {},
   "outputs": [],
   "source": [
    "def create_bins(num_bins_per_observation):\n",
    "    # CODE HERE\n",
    "    \n",
    "    bins_position = np.linspace(-1.2,0.6,num_bins_per_observation)\n",
    "    bins_velocity = np.linspace(-0.07,0.07,num_bins_per_observation)\n",
    "    \n",
    "    bins = np.array([bins_position,\n",
    "                     bins_velocity])\n",
    "    return bins"
   ]
  },
  {
   "cell_type": "markdown",
   "id": "9c16f6a1",
   "metadata": {},
   "source": [
    "**TASK: Here you should write the code which creates the bins and defines the NUM_BINS attribute**"
   ]
  },
  {
   "cell_type": "code",
   "execution_count": 30,
   "id": "c1b2b0ac",
   "metadata": {},
   "outputs": [],
   "source": [
    "NUMS_BINS = 25\n",
    "BINS = create_bins(NUMS_BINS)"
   ]
  },
  {
   "cell_type": "markdown",
   "id": "28446881",
   "metadata": {},
   "source": [
    "**TASK: Create a function that will take in observations from the environment and the bins array and return the discretized version of the observation.**"
   ]
  },
  {
   "cell_type": "markdown",
   "id": "bcceedae",
   "metadata": {},
   "source": [
    "Now we need the code to discretize the observations. We can use the same code as used in the last notebook"
   ]
  },
  {
   "cell_type": "code",
   "execution_count": 31,
   "id": "6365d656",
   "metadata": {},
   "outputs": [],
   "source": [
    "def discretize_observation(observations, bins):\n",
    "    # CODE HERE\n",
    "    binned_observations = []\n",
    "    for i, observation in enumerate(observations):\n",
    "        discretized_observation = np.digitize(observation, bins[i])\n",
    "        binned_observations.append(discretized_observation)\n",
    "    return tuple(binned_observations) # Important for later indexing"
   ]
  },
  {
   "cell_type": "markdown",
   "id": "b176faaf",
   "metadata": {},
   "source": [
    "**Let's check to make sure your previous two function calls work with a quick task! Otherwise it may be hard to debug later on.**"
   ]
  },
  {
   "cell_type": "markdown",
   "id": "7d2d8d8e",
   "metadata": {},
   "source": [
    "**TASK: Confirm that your *create_bins()* function works with *discretize_observation() by running the following cell***"
   ]
  },
  {
   "cell_type": "code",
   "execution_count": 32,
   "id": "c5eca009",
   "metadata": {},
   "outputs": [],
   "source": [
    "test_bins = create_bins(5)\n",
    "np.testing.assert_almost_equal(test_bins[0], [-1.2 , -0.75, -0.3 ,  0.15,  0.6])\n",
    "np.testing.assert_almost_equal(test_bins[1], [-0.07 , -0.035,  0.   ,  0.035,  0.07 ])\n",
    "\n",
    "test_observation = np.array([-0.9, 0.03])\n",
    "discretized_test_bins = discretize_observation(test_observation, test_bins)\n",
    "assert discretized_test_bins == (1, 3)"
   ]
  },
  {
   "cell_type": "markdown",
   "id": "1e2e71a8",
   "metadata": {},
   "source": [
    "**TASK: Create the Q-Table** <br />\n",
    "Remember the shape that the Q-Table needs to have."
   ]
  },
  {
   "cell_type": "code",
   "execution_count": 33,
   "id": "32b9bba7",
   "metadata": {},
   "outputs": [
    {
     "data": {
      "text/plain": [
       "(25, 25, 3)"
      ]
     },
     "execution_count": 33,
     "metadata": {},
     "output_type": "execute_result"
    }
   ],
   "source": [
    "# CREATE THE Q TABLE\n",
    "q_table_shape = (NUMS_BINS,NUMS_BINS,env.action_space.n)\n",
    "q_table = np.zeros(q_table_shape)\n",
    "q_table.shape"
   ]
  },
  {
   "cell_type": "markdown",
   "id": "44d485ec",
   "metadata": {},
   "source": [
    "**TASK: Fill out the Epislon Greedy Action Selection function:**"
   ]
  },
  {
   "cell_type": "code",
   "execution_count": 34,
   "id": "ac943d8d",
   "metadata": {},
   "outputs": [],
   "source": [
    "def epsilon_greedy_action_selection(epsilon, q_table, discrete_state):\n",
    "    #CODE HERE\n",
    "    random_number = np.random.random()\n",
    "    \n",
    "    if random_number > epsilon:\n",
    "        action = np.argmax(q_table[discrete_state])\n",
    "        \n",
    "    else:\n",
    "        action = np.random.randint(0, env.action_space.n)\n",
    "        \n",
    "    return action"
   ]
  },
  {
   "cell_type": "markdown",
   "id": "5b6f5ec4",
   "metadata": {},
   "source": [
    "**TASK: Fill out the function to compute the next Q value.**"
   ]
  },
  {
   "cell_type": "code",
   "execution_count": 35,
   "id": "a7ec635a",
   "metadata": {},
   "outputs": [],
   "source": [
    "def compute_next_q_value(old_q_value, reward, next_optimal_q_value):\n",
    "    \n",
    "    return old_q_value + ALPHA *(reward + GAMMA * next_optimal_q_value - old_q_value)\n"
   ]
  },
  {
   "cell_type": "markdown",
   "id": "043548dc",
   "metadata": {},
   "source": [
    "**TASK: Create a function to reduce epsilon, feel free to choose any reduction method you want. We'll use a reduction with BURN_IN and EPSILON_END limits in the solution. We'll also show a way to reduce epsilon based on the number of epochs. Feel free to experiment here.**"
   ]
  },
  {
   "cell_type": "code",
   "execution_count": 41,
   "id": "ea236a4b",
   "metadata": {},
   "outputs": [],
   "source": [
    "def reduce_epsilon(epsilon, epoch):\n",
    "    # CODE HERE\n",
    "    if BURN_IN <= epoch <= EPSILON_END:\n",
    "        epsilon -= EPSILON_REDUCE\n",
    "        \n",
    "    return epsilon"
   ]
  },
  {
   "cell_type": "markdown",
   "id": "f2631b38",
   "metadata": {},
   "source": [
    "**TASK: Define your hyperparameters. Note, we'll show our solution hyperparameters here, but depending on your *reduce_epsilon* function, your epsilon hyperparameters may be different.**"
   ]
  },
  {
   "cell_type": "markdown",
   "id": "90b2c3fc",
   "metadata": {},
   "source": [
    "Here are the solution initial hyperparameters, your will probably be different!"
   ]
  },
  {
   "cell_type": "code",
   "execution_count": 42,
   "id": "60825d7b",
   "metadata": {},
   "outputs": [],
   "source": [
    "# Feel free to change!\n",
    "\n",
    "EPOCHS = 30000\n",
    "BURN_IN = 100\n",
    "epsilon = 1\n",
    "\n",
    "EPSILON_END= 10000\n",
    "EPSILON_REDUCE = 0.0001 \n",
    "\n",
    "ALPHA = 0.8\n",
    "GAMMA = 0.9\n"
   ]
  },
  {
   "cell_type": "markdown",
   "id": "f73abcf6",
   "metadata": {},
   "source": [
    "**TASK: Create the training loop for the reinforcement learning agent and run the loop. We've gone ahead and created the basic structure of the loopwith some comments. We also pre-filled the visualization portion.** <br />\n",
    "Note: Use the lecture notebook as a guide and reference"
   ]
  },
  {
   "cell_type": "code",
   "execution_count": 43,
   "id": "d671a646",
   "metadata": {},
   "outputs": [
    {
     "data": {
      "image/png": "[encoded data removed]",
      "text/plain": [
       "<Figure size 432x288 with 1 Axes>"
      ]
     },
     "metadata": {
      "needs_background": "light"
     },
     "output_type": "display_data"
    }
   ],
   "source": [
    "####### VISUALIZATION CODE FOR YOU. TOTALLY OPTIONAL. ##########################\n",
    "########## FEEL FREE TO REMOVE OR ADD YOUR OWN VISUAL CODE. #################\n",
    "\n",
    "log_interval = 100  # How often do we update the plot? (Just for performance reasons)\n",
    "### Here we set up the routine for the live plotting of the achieved points ######\n",
    "fig = plt.figure()\n",
    "ax = fig.add_subplot(111)\n",
    "plt.ion()\n",
    "fig.canvas.draw()\n",
    "\n",
    "max_position_log = []  # to store all achieved points\n",
    "mean_positions_log = []  # to store a running mean of the last 30 results\n",
    "epochs = []  # store the epoch for plotting\n",
    "\n",
    "\n",
    "#############################################################################\n",
    "################################## TRAINING TASKS ##########################\n",
    "###########################################################################\n",
    "for epoch in range(EPOCHS):\n",
    "    ################################# TODO ######################################\n",
    "    initial_state = env.reset()\n",
    "    discretize_state = discretize_observation(initial_state, BINS)\n",
    "    \n",
    "    done = False\n",
    "    \n",
    "    #############################\n",
    "    # These lines are for plotting.\n",
    "    max_position = -np.inf  \n",
    "    epochs.append(epoch)\n",
    "    #############################\n",
    "    \n",
    "    # TASK TO DO: As long as current run is alive (i.e not done) perform the following steps:\n",
    "    while not done:  # Perform current run as long as done is False (as long as there is still time to reach the top)\n",
    "\n",
    "\n",
    "        # TASK TO DO: Select action according to epsilon-greedy strategy\n",
    "        action = epsilon_greedy_action_selection(epsilon, q_table, discretize_state)\n",
    "        \n",
    "       \n",
    "        # TASK TO DO: Perform selected action and get next state. Do not forget to discretize it\n",
    "        next_state, reward, done, info = env.step(action)\n",
    "        position, velocity = next_state\n",
    "        next_state_discretized = discretize_observation(next_state, BINS)\n",
    "        \n",
    "        \n",
    "        # TASK TO DO: Get old Q-value from Q-Table and get next optimal Q-Value\n",
    "        old_q_value = q_table[discretize_state + (action, )]\n",
    "        next_optimal_q_value = np.max(q_table[next_state_discretized])\n",
    "        \n",
    "        \n",
    "        # TASK TO DO: Compute next Q-Value and insert it into the table\n",
    "        next_q = compute_next_q_value(old_q_value, reward, next_optimal_q_value)\n",
    "        q_table[discretize_state + (action,)] = next_q\n",
    "        \n",
    "        \n",
    "        # TASK TO DO: Update the old state with the new one\n",
    "        discretize_state = next_state_discretized\n",
    "\n",
    "        \n",
    "        \n",
    "        ##############################\n",
    "        ##  Only for plotting the results - store the highest point the car is able to reach\n",
    "        if position > max_position:  \n",
    "            max_position = position\n",
    "\n",
    "    # TASK TO DO: Reduce epsilon\n",
    "    epsilon = reduce_epsilon(epsilon, epoch)\n",
    "\n",
    "    max_position_log.append(max_position)  # log the highest position the car was able to reach\n",
    "    running_mean = round(np.mean(max_position_log[-30:]), 2)  # Compute running mean of position over the last 30 epochs\n",
    "    mean_positions_log.append(running_mean)  # and log it\n",
    "    \n",
    "    ################ Plot the points and running mean ##################\n",
    "    if epoch % log_interval == 0:\n",
    "        ax.clear()\n",
    "        ax.scatter(epochs, max_position_log)\n",
    "        ax.plot(epochs, max_position_log)\n",
    "        ax.plot(epochs, mean_positions_log, label=f\"Running Mean: {running_mean}\")\n",
    "        plt.legend()\n",
    "        fig.canvas.draw()\n",
    "  ######################################################################\n",
    "\n",
    "env.close()\n"
   ]
  },
  {
   "cell_type": "markdown",
   "id": "3e5de67a",
   "metadata": {},
   "source": [
    "**TASK: Use your Q-Table to test your agent and render its performance.**"
   ]
  },
  {
   "cell_type": "code",
   "execution_count": 45,
   "id": "39fbe789",
   "metadata": {
    "scrolled": true
   },
   "outputs": [
    {
     "ename": "error",
     "evalue": "display Surface quit",
     "output_type": "error",
     "traceback": [
      "\u001b[1;31m---------------------------------------------------------------------------\u001b[0m",
      "\u001b[1;31merror\u001b[0m                                     Traceback (most recent call last)",
      "\u001b[1;32m~\\AppData\\Local\\Temp\\ipykernel_15132\\3699836441.py\u001b[0m in \u001b[0;36m<module>\u001b[1;34m\u001b[0m\n\u001b[0;32m      2\u001b[0m \u001b[1;33m\u001b[0m\u001b[0m\n\u001b[0;32m      3\u001b[0m \u001b[1;32mfor\u001b[0m \u001b[0mstep\u001b[0m \u001b[1;32min\u001b[0m \u001b[0mrange\u001b[0m\u001b[1;33m(\u001b[0m\u001b[1;36m1000\u001b[0m\u001b[1;33m)\u001b[0m\u001b[1;33m:\u001b[0m\u001b[1;33m\u001b[0m\u001b[1;33m\u001b[0m\u001b[0m\n\u001b[1;32m----> 4\u001b[1;33m     \u001b[0menv\u001b[0m\u001b[1;33m.\u001b[0m\u001b[0mrender\u001b[0m\u001b[1;33m(\u001b[0m\u001b[1;33m)\u001b[0m\u001b[1;33m\u001b[0m\u001b[1;33m\u001b[0m\u001b[0m\n\u001b[0m\u001b[0;32m      5\u001b[0m     \u001b[0mdiscrete_state\u001b[0m \u001b[1;33m=\u001b[0m \u001b[0mdiscretize_observation\u001b[0m\u001b[1;33m(\u001b[0m\u001b[0mobservation\u001b[0m\u001b[1;33m,\u001b[0m \u001b[0mBINS\u001b[0m\u001b[1;33m)\u001b[0m\u001b[1;33m\u001b[0m\u001b[1;33m\u001b[0m\u001b[0m\n\u001b[0;32m      6\u001b[0m     \u001b[0maction\u001b[0m \u001b[1;33m=\u001b[0m \u001b[0mnp\u001b[0m\u001b[1;33m.\u001b[0m\u001b[0margmax\u001b[0m\u001b[1;33m(\u001b[0m\u001b[0mq_table\u001b[0m\u001b[1;33m[\u001b[0m\u001b[0mdiscrete_state\u001b[0m\u001b[1;33m]\u001b[0m\u001b[1;33m)\u001b[0m\u001b[1;33m\u001b[0m\u001b[1;33m\u001b[0m\u001b[0m\n",
      "\u001b[1;32m~\\anaconda3\\envs\\my_rl_env\\lib\\site-packages\\gym\\core.py\u001b[0m in \u001b[0;36mrender\u001b[1;34m(self, **kwargs)\u001b[0m\n\u001b[0;32m    341\u001b[0m     \u001b[1;32mdef\u001b[0m \u001b[0mrender\u001b[0m\u001b[1;33m(\u001b[0m\u001b[0mself\u001b[0m\u001b[1;33m,\u001b[0m \u001b[1;33m**\u001b[0m\u001b[0mkwargs\u001b[0m\u001b[1;33m)\u001b[0m\u001b[1;33m:\u001b[0m\u001b[1;33m\u001b[0m\u001b[1;33m\u001b[0m\u001b[0m\n\u001b[0;32m    342\u001b[0m         \u001b[1;34m\"\"\"Renders the environment with kwargs.\"\"\"\u001b[0m\u001b[1;33m\u001b[0m\u001b[1;33m\u001b[0m\u001b[0m\n\u001b[1;32m--> 343\u001b[1;33m         \u001b[1;32mreturn\u001b[0m \u001b[0mself\u001b[0m\u001b[1;33m.\u001b[0m\u001b[0menv\u001b[0m\u001b[1;33m.\u001b[0m\u001b[0mrender\u001b[0m\u001b[1;33m(\u001b[0m\u001b[1;33m**\u001b[0m\u001b[0mkwargs\u001b[0m\u001b[1;33m)\u001b[0m\u001b[1;33m\u001b[0m\u001b[1;33m\u001b[0m\u001b[0m\n\u001b[0m\u001b[0;32m    344\u001b[0m \u001b[1;33m\u001b[0m\u001b[0m\n\u001b[0;32m    345\u001b[0m     \u001b[1;32mdef\u001b[0m \u001b[0mclose\u001b[0m\u001b[1;33m(\u001b[0m\u001b[0mself\u001b[0m\u001b[1;33m)\u001b[0m\u001b[1;33m:\u001b[0m\u001b[1;33m\u001b[0m\u001b[1;33m\u001b[0m\u001b[0m\n",
      "\u001b[1;32m~\\anaconda3\\envs\\my_rl_env\\lib\\site-packages\\gym\\wrappers\\order_enforcing.py\u001b[0m in \u001b[0;36mrender\u001b[1;34m(self, **kwargs)\u001b[0m\n\u001b[0;32m     49\u001b[0m                 \u001b[1;34m\"set `disable_render_order_enforcing=True` on the OrderEnforcer wrapper.\"\u001b[0m\u001b[1;33m\u001b[0m\u001b[1;33m\u001b[0m\u001b[0m\n\u001b[0;32m     50\u001b[0m             )\n\u001b[1;32m---> 51\u001b[1;33m         \u001b[1;32mreturn\u001b[0m \u001b[0mself\u001b[0m\u001b[1;33m.\u001b[0m\u001b[0menv\u001b[0m\u001b[1;33m.\u001b[0m\u001b[0mrender\u001b[0m\u001b[1;33m(\u001b[0m\u001b[1;33m**\u001b[0m\u001b[0mkwargs\u001b[0m\u001b[1;33m)\u001b[0m\u001b[1;33m\u001b[0m\u001b[1;33m\u001b[0m\u001b[0m\n\u001b[0m",
      "\u001b[1;32m~\\anaconda3\\envs\\my_rl_env\\lib\\site-packages\\gym\\wrappers\\env_checker.py\u001b[0m in \u001b[0;36mrender\u001b[1;34m(self, **kwargs)\u001b[0m\n\u001b[0;32m     55\u001b[0m             \u001b[1;32mreturn\u001b[0m \u001b[0mpassive_env_render_check\u001b[0m\u001b[1;33m(\u001b[0m\u001b[0mself\u001b[0m\u001b[1;33m.\u001b[0m\u001b[0menv\u001b[0m\u001b[1;33m,\u001b[0m \u001b[1;33m**\u001b[0m\u001b[0mkwargs\u001b[0m\u001b[1;33m)\u001b[0m\u001b[1;33m\u001b[0m\u001b[1;33m\u001b[0m\u001b[0m\n\u001b[0;32m     56\u001b[0m         \u001b[1;32melse\u001b[0m\u001b[1;33m:\u001b[0m\u001b[1;33m\u001b[0m\u001b[1;33m\u001b[0m\u001b[0m\n\u001b[1;32m---> 57\u001b[1;33m             \u001b[1;32mreturn\u001b[0m \u001b[0mself\u001b[0m\u001b[1;33m.\u001b[0m\u001b[0menv\u001b[0m\u001b[1;33m.\u001b[0m\u001b[0mrender\u001b[0m\u001b[1;33m(\u001b[0m\u001b[1;33m**\u001b[0m\u001b[0mkwargs\u001b[0m\u001b[1;33m)\u001b[0m\u001b[1;33m\u001b[0m\u001b[1;33m\u001b[0m\u001b[0m\n\u001b[0m",
      "\u001b[1;32m~\\anaconda3\\envs\\my_rl_env\\lib\\site-packages\\gym\\envs\\classic_control\\mountain_car.py\u001b[0m in \u001b[0;36mrender\u001b[1;34m(self, mode)\u001b[0m\n\u001b[0;32m    234\u001b[0m \u001b[1;33m\u001b[0m\u001b[0m\n\u001b[0;32m    235\u001b[0m         \u001b[0mself\u001b[0m\u001b[1;33m.\u001b[0m\u001b[0msurf\u001b[0m \u001b[1;33m=\u001b[0m \u001b[0mpygame\u001b[0m\u001b[1;33m.\u001b[0m\u001b[0mtransform\u001b[0m\u001b[1;33m.\u001b[0m\u001b[0mflip\u001b[0m\u001b[1;33m(\u001b[0m\u001b[0mself\u001b[0m\u001b[1;33m.\u001b[0m\u001b[0msurf\u001b[0m\u001b[1;33m,\u001b[0m \u001b[1;32mFalse\u001b[0m\u001b[1;33m,\u001b[0m \u001b[1;32mTrue\u001b[0m\u001b[1;33m)\u001b[0m\u001b[1;33m\u001b[0m\u001b[1;33m\u001b[0m\u001b[0m\n\u001b[1;32m--> 236\u001b[1;33m         \u001b[0mself\u001b[0m\u001b[1;33m.\u001b[0m\u001b[0mscreen\u001b[0m\u001b[1;33m.\u001b[0m\u001b[0mblit\u001b[0m\u001b[1;33m(\u001b[0m\u001b[0mself\u001b[0m\u001b[1;33m.\u001b[0m\u001b[0msurf\u001b[0m\u001b[1;33m,\u001b[0m \u001b[1;33m(\u001b[0m\u001b[1;36m0\u001b[0m\u001b[1;33m,\u001b[0m \u001b[1;36m0\u001b[0m\u001b[1;33m)\u001b[0m\u001b[1;33m)\u001b[0m\u001b[1;33m\u001b[0m\u001b[1;33m\u001b[0m\u001b[0m\n\u001b[0m\u001b[0;32m    237\u001b[0m         \u001b[1;32mif\u001b[0m \u001b[0mmode\u001b[0m \u001b[1;33m==\u001b[0m \u001b[1;34m\"human\"\u001b[0m\u001b[1;33m:\u001b[0m\u001b[1;33m\u001b[0m\u001b[1;33m\u001b[0m\u001b[0m\n\u001b[0;32m    238\u001b[0m             \u001b[0mpygame\u001b[0m\u001b[1;33m.\u001b[0m\u001b[0mevent\u001b[0m\u001b[1;33m.\u001b[0m\u001b[0mpump\u001b[0m\u001b[1;33m(\u001b[0m\u001b[1;33m)\u001b[0m\u001b[1;33m\u001b[0m\u001b[1;33m\u001b[0m\u001b[0m\n",
      "\u001b[1;31merror\u001b[0m: display Surface quit"
     ]
    }
   ],
   "source": [
    "observation = env.reset()\n",
    "\n",
    "for step in range(1000):\n",
    "    env.render()\n",
    "    discrete_state = discretize_observation(observation, BINS)\n",
    "    action = np.argmax(q_table[discrete_state])\n",
    "    observation, reward, done, info = env.step(action)\n",
    "\n",
    "    \n",
    "    if done:\n",
    "        print(\"Done\")\n",
    "        break\n",
    "        \n",
    "env.close()"
   ]
  },
  {
   "cell_type": "markdown",
   "id": "5d77b6e7",
   "metadata": {},
   "source": [
    "**OPTIONAL: Play with our Q-Table with 40 bins per observation.**"
   ]
  },
  {
   "cell_type": "code",
   "execution_count": 41,
   "id": "831daba7",
   "metadata": {},
   "outputs": [],
   "source": [
    "# We saved our matrix q_table for you (with 40 bins)"
   ]
  },
  {
   "cell_type": "code",
   "execution_count": 42,
   "id": "1e16f226",
   "metadata": {},
   "outputs": [],
   "source": [
    "our_q_table = np.load('40bin_qtable_mountaincar.npy')"
   ]
  },
  {
   "cell_type": "code",
   "execution_count": 44,
   "id": "1832a448",
   "metadata": {},
   "outputs": [
    {
     "data": {
      "text/plain": [
       "(40, 40, 3)"
      ]
     },
     "execution_count": 44,
     "metadata": {},
     "output_type": "execute_result"
    }
   ],
   "source": [
    "our_q_table.shape"
   ]
  },
  {
   "cell_type": "markdown",
   "id": "7a1045da",
   "metadata": {},
   "source": [
    "**Great job! Note how you could train for many more epochs/episodes or edit hyperparameters, the more complex the environment, the more choices you have to experiment with!**"
   ]
  }
 ],
 "metadata": {
  "kernelspec": {
   "display_name": "Python 3 (ipykernel)",
   "language": "python",
   "name": "python3"
  },
  "language_info": {
   "codemirror_mode": {
    "name": "ipython",
    "version": 3
   },
   "file_extension": ".py",
   "mimetype": "text/x-python",
   "name": "python",
   "nbconvert_exporter": "python",
   "pygments_lexer": "ipython3",
   "version": "3.7.13"
  }
 },
 "nbformat": 4,
 "nbformat_minor": 5
}
