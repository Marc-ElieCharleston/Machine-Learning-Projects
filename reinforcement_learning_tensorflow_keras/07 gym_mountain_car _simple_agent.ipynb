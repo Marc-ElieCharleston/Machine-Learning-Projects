{
 "cells": [
  {
   "cell_type": "code",
   "execution_count": 5,
   "id": "7fb760a8",
   "metadata": {},
   "outputs": [],
   "source": [
    "import time\n",
    "import gym"
   ]
  },
  {
   "cell_type": "code",
   "execution_count": 6,
   "id": "ae8df79f",
   "metadata": {},
   "outputs": [],
   "source": [
    "env_name = \"MountainCar-v0\"\n",
    "env = gym.make(env_name)"
   ]
  },
  {
   "cell_type": "code",
   "execution_count": 7,
   "id": "8efb17f4",
   "metadata": {},
   "outputs": [],
   "source": [
    "def simple_agent(observation):\n",
    "    #observation\n",
    "    position, velocity = observation\n",
    "    \n",
    "    #quand aller a gauche\n",
    "    if -0.1 < position < 0.4:\n",
    "        action = 2\n",
    "    \n",
    "    #quand aller à droite\n",
    "    elif velocity < 0 and position < -0.2:\n",
    "        action = 0\n",
    "    \n",
    "    #ne rien faire\n",
    "    else:\n",
    "        action = 1\n",
    "        \n",
    "    #action\n",
    "    return action"
   ]
  },
  {
   "cell_type": "code",
   "execution_count": 8,
   "id": "d13fd234",
   "metadata": {},
   "outputs": [],
   "source": [
    "env.seed(42)\n",
    "observation = env.reset()\n",
    "\n",
    "for step in range(800):\n",
    "    # 0 left\n",
    "    # 1 nothing\n",
    "    # 2 right\n",
    "    env.render(mode='human')\n",
    "    action = simple_agent(observation)\n",
    "    \n",
    "    observation, reward, done, info = env.step(action)\n",
    "    \n",
    "    time.sleep(0.001)\n",
    "    \n",
    "    if done:\n",
    "        break\n",
    "env.close()"
   ]
  },
  {
   "cell_type": "code",
   "execution_count": null,
   "id": "5c9df801",
   "metadata": {},
   "outputs": [],
   "source": []
  }
 ],
 "metadata": {
  "kernelspec": {
   "display_name": "Python 3 (ipykernel)",
   "language": "python",
   "name": "python3"
  },
  "language_info": {
   "codemirror_mode": {
    "name": "ipython",
    "version": 3
   },
   "file_extension": ".py",
   "mimetype": "text/x-python",
   "name": "python",
   "nbconvert_exporter": "python",
   "pygments_lexer": "ipython3",
   "version": "3.7.13"
  }
 },
 "nbformat": 4,
 "nbformat_minor": 5
}
