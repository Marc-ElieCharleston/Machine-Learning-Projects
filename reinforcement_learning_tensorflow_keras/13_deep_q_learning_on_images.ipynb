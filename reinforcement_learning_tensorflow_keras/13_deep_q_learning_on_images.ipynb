{
 "cells": [
  {
   "cell_type": "code",
   "execution_count": 1,
   "id": "258723d0",
   "metadata": {},
   "outputs": [],
   "source": [
    "from PIL import Image"
   ]
  },
  {
   "cell_type": "code",
   "execution_count": 2,
   "id": "b84e3e17",
   "metadata": {},
   "outputs": [],
   "source": [
    "import matplotlib.pyplot as plt\n",
    "import numpy as np\n",
    "import gym\n",
    "from gym.utils import play"
   ]
  },
  {
   "cell_type": "code",
   "execution_count": 5,
   "id": "8d24797a",
   "metadata": {},
   "outputs": [],
   "source": [
    "from rl.core import Processor\n",
    "from rl.memory import SequentialMemory"
   ]
  },
  {
   "cell_type": "code",
   "execution_count": 6,
   "id": "984e11aa",
   "metadata": {},
   "outputs": [
    {
     "name": "stderr",
     "output_type": "stream",
     "text": [
      "C:\\Users\\pc\\anaconda3\\envs\\my_rl_env\\lib\\site-packages\\gym\\envs\\registration.py:565: UserWarning: \u001b[33mWARN: The environment Breakout-v0 is out of date. You should consider upgrading to version `v4`.\u001b[0m\n",
      "  f\"The environment {id} is out of date. You should consider \"\n",
      "C:\\Users\\pc\\anaconda3\\envs\\my_rl_env\\lib\\site-packages\\gym\\utils\\passive_env_checker.py:98: UserWarning: \u001b[33mWARN: We recommend you to use a symmetric and normalized Box action space (range=[-1, 1]) https://stable-baselines3.readthedocs.io/en/master/guide/rl_tips.html\u001b[0m\n",
      "  \"We recommend you to use a symmetric and normalized Box action space (range=[-1, 1]) \"\n"
     ]
    }
   ],
   "source": [
    "env = gym.make(\"Breakout-v0\")"
   ]
  },
  {
   "cell_type": "code",
   "execution_count": 8,
   "id": "e3845123",
   "metadata": {},
   "outputs": [],
   "source": [
    "WINDOWS_LENGTH = 3"
   ]
  },
  {
   "cell_type": "code",
   "execution_count": 9,
   "id": "0ebd996e",
   "metadata": {},
   "outputs": [],
   "source": [
    "from collections import deque"
   ]
  },
  {
   "cell_type": "code",
   "execution_count": 16,
   "id": "c98b144a",
   "metadata": {},
   "outputs": [],
   "source": [
    "np.random.seed(42)\n",
    "env.reset()\n",
    "\n",
    "sequential_frame_buffer = []\n",
    "temp_sequential_frames = deque(maxlen=WINDOWS_LENGTH)\n",
    "\n",
    "for i in range(10):\n",
    "    \n",
    "    if i ==1:\n",
    "        action =1 #lancer la balle\n",
    "    else:\n",
    "        action = 3 \n",
    "    \n",
    "    observation, reward, done, info = env.step(action)\n",
    "    \n",
    "    if len(temp_sequential_frames)==WINDOWS_LENGTH:\n",
    "        #quand on a 3 frames, on l'intègre dans notre buffer\n",
    "        sequential_frame_buffer.append(list(temp_sequential_frames))\n",
    "        \n",
    "    temp_sequential_frames.append(observation)"
   ]
  },
  {
   "cell_type": "code",
   "execution_count": 17,
   "id": "5c1d85b9",
   "metadata": {},
   "outputs": [
    {
     "data": {
      "text/plain": [
       "7"
      ]
     },
     "execution_count": 17,
     "metadata": {},
     "output_type": "execute_result"
    }
   ],
   "source": [
    "len(sequential_frame_buffer)"
   ]
  },
  {
   "cell_type": "code",
   "execution_count": 19,
   "id": "0c6af92b",
   "metadata": {},
   "outputs": [
    {
     "data": {
      "text/plain": [
       "<matplotlib.image.AxesImage at 0x218f0a20148>"
      ]
     },
     "execution_count": 19,
     "metadata": {},
     "output_type": "execute_result"
    }
   ],
   "source": [
    "plt.imshow(sequential_frame_buffer[0][0])"
   ]
  },
  {
   "cell_type": "code",
   "execution_count": 20,
   "id": "0eaa742c",
   "metadata": {},
   "outputs": [
    {
     "data": {
      "image/png": "[encoded data removed]",
      "text/plain": [
       "<Figure size 864x864 with 12 Axes>"
      ]
     },
     "metadata": {
      "needs_background": "light"
     },
     "output_type": "display_data"
    }
   ],
   "source": [
    "%matplotlib inline\n",
    "\n",
    "fig, axis = plt.subplots(4, WINDOWS_LENGTH, figsize = (12,12))\n",
    "\n",
    "for global_index, timestep in enumerate(sequential_frame_buffer[:4]):\n",
    "    for frame_index, frame in enumerate(timestep):\n",
    "        axis[global_index][frame_index].imshow(frame)\n",
    "        \n",
    "fig.subplots_adjust(wspace=0, hspace = 0.1)"
   ]
  },
  {
   "cell_type": "code",
   "execution_count": 21,
   "id": "b385ccc0",
   "metadata": {},
   "outputs": [],
   "source": [
    " memory = SequentialMemory(limit = 1000, window_length=WINDOWS_LENGTH) # limit = le nombre d'experience"
   ]
  },
  {
   "cell_type": "code",
   "execution_count": null,
   "id": "4c9ce5c7",
   "metadata": {},
   "outputs": [],
   "source": []
  },
  {
   "cell_type": "code",
   "execution_count": 22,
   "id": "7c3a60eb",
   "metadata": {},
   "outputs": [],
   "source": [
    "from PIL import Image\n",
    "from rl.core import Processor"
   ]
  },
  {
   "cell_type": "code",
   "execution_count": 23,
   "id": "cb5a52dd",
   "metadata": {},
   "outputs": [],
   "source": [
    "IMG_SHAPE = (84,84) #(210,160,3) la shape du sequential frame buffer, on va modifier la shape pour le temps de calcul"
   ]
  },
  {
   "cell_type": "code",
   "execution_count": 24,
   "id": "5d966d06",
   "metadata": {},
   "outputs": [],
   "source": [
    "class BreakOutProcessor(Processor):\n",
    "    \n",
    "    def process_observation(self, observation):\n",
    "        \n",
    "        img = Image.fromarray(observation) # array --> Image avec PIL\n",
    "        img = img.resize(IMG_SHAPE)\n",
    "        img = img.convert('L') #grayscale (ou Luminescence)\n",
    "        \n",
    "        return np.array(img)"
   ]
  },
  {
   "cell_type": "code",
   "execution_count": 25,
   "id": "b204d1b5",
   "metadata": {},
   "outputs": [],
   "source": [
    "sample_images = []\n",
    "breakout_proc = BreakOutProcessor()\n",
    "env.reset()\n",
    "\n",
    "for _ in range(200):\n",
    "    action = env.action_space.sample()\n",
    "    observation, reward, done, info = env.step(action)\n",
    "    processed_observation = breakout_proc.process_observation(observation)\n",
    "    sample_images.append(processed_observation)"
   ]
  },
  {
   "cell_type": "code",
   "execution_count": 28,
   "id": "093c1603",
   "metadata": {},
   "outputs": [
    {
     "data": {
      "text/plain": [
       "<matplotlib.image.AxesImage at 0x218f5b2abc8>"
      ]
     },
     "execution_count": 28,
     "metadata": {},
     "output_type": "execute_result"
    },
    {
     "data": {
      "image/png": "[encoded data removed]",
      "text/plain": [
       "<Figure size 432x288 with 1 Axes>"
      ]
     },
     "metadata": {
      "needs_background": "light"
     },
     "output_type": "display_data"
    }
   ],
   "source": [
    "plt.imshow(sample_images[-1], cmap = 'gray')"
   ]
  },
  {
   "cell_type": "code",
   "execution_count": null,
   "id": "b356fd29",
   "metadata": {},
   "outputs": [],
   "source": []
  }
 ],
 "metadata": {
  "kernelspec": {
   "display_name": "Python 3 (ipykernel)",
   "language": "python",
   "name": "python3"
  },
  "language_info": {
   "codemirror_mode": {
    "name": "ipython",
    "version": 3
   },
   "file_extension": ".py",
   "mimetype": "text/x-python",
   "name": "python",
   "nbconvert_exporter": "python",
   "pygments_lexer": "ipython3",
   "version": "3.7.13"
  }
 },
 "nbformat": 4,
 "nbformat_minor": 5
}
