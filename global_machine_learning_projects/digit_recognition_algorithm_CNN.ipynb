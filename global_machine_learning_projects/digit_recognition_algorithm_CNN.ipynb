{
 "cells": [
  {
   "cell_type": "code",
   "execution_count": 22,
   "id": "0d3c6b6a",
   "metadata": {},
   "outputs": [],
   "source": [
    "from keras.datasets import mnist\n",
    "from keras.models import Sequential\n",
    "from keras.layers.core import Dense, Dropout, Activation, Flatten\n",
    "from keras.layers import Conv2D, MaxPooling2D\n",
    "from keras.optimizers import SGD\n",
    "from keras.utils import np_utils\n",
    "import matplotlib\n",
    "import matplotlib.pyplot as plt\n",
    "import scipy\n",
    "import scipy.ndimage\n",
    "import numpy as np\n",
    "from keras import backend as K\n",
    "import keras\n",
    "import random\n",
    "(X_train_base, y_train_base), (X_test_base, y_test_base) = mnist.load_data()"
   ]
  },
  {
   "cell_type": "code",
   "execution_count": 23,
   "id": "ec347c80",
   "metadata": {},
   "outputs": [],
   "source": [
    "subset = 10000 #nombre d'image total\n",
    "nb_classes = 10 # nombre de target total (0 ..... 9 )"
   ]
  },
  {
   "cell_type": "code",
   "execution_count": 24,
   "id": "764cf639",
   "metadata": {},
   "outputs": [],
   "source": [
    "img_rows, img_cols = 28,28\n",
    "(X_train, y_train), (X_test, y_test) = mnist.load_data()\n",
    "X_train = X_train[:subset].reshape(X_train[:subset].shape[0], img_rows, img_cols, 1)\n",
    "X_test = X_test.reshape(X_test.shape[0], img_rows, img_cols, 1)\n",
    "input_shape = (img_rows, img_cols, 1)\n",
    "X_train = X_train.astype('float32')\n",
    "X_test = X_test.astype('float32')\n",
    "X_train /= 255\n",
    "X_test /= 255\n",
    "y_train = keras.utils.to_categorical(y_train[:subset], nb_classes)\n",
    "y_test = keras.utils.to_categorical(y_test, nb_classes)"
   ]
  },
  {
   "cell_type": "code",
   "execution_count": 25,
   "id": "c987b35b",
   "metadata": {},
   "outputs": [
    {
     "name": "stdout",
     "output_type": "stream",
     "text": [
      "x_train shape : (10000, 28, 28, 1)\n",
      "10000 train samples\n",
      "10000 test samples\n"
     ]
    }
   ],
   "source": [
    "print(\"x_train shape :\", X_train.shape)\n",
    "print(X_train.shape[0], 'train samples')\n",
    "print(X_test.shape[0], 'test samples')"
   ]
  },
  {
   "cell_type": "code",
   "execution_count": 32,
   "id": "ec4b99bb",
   "metadata": {},
   "outputs": [
    {
     "name": "stdout",
     "output_type": "stream",
     "text": [
      "Model: \"sequential_4\"\n",
      "_________________________________________________________________\n",
      " Layer (type)                Output Shape              Param #   \n",
      "=================================================================\n",
      " conv2d_8 (Conv2D)           (None, 26, 26, 16)        160       \n",
      "                                                                 \n",
      " max_pooling2d_8 (MaxPooling  (None, 13, 13, 16)       0         \n",
      " 2D)                                                             \n",
      "                                                                 \n",
      " conv2d_9 (Conv2D)           (None, 11, 11, 16)        2320      \n",
      "                                                                 \n",
      " conv2d_10 (Conv2D)          (None, 9, 9, 16)          2320      \n",
      "                                                                 \n",
      " max_pooling2d_9 (MaxPooling  (None, 4, 4, 16)         0         \n",
      " 2D)                                                             \n",
      "                                                                 \n",
      " dropout_8 (Dropout)         (None, 4, 4, 16)          0         \n",
      "                                                                 \n",
      " flatten_4 (Flatten)         (None, 256)               0         \n",
      "                                                                 \n",
      " dense_8 (Dense)             (None, 100)               25700     \n",
      "                                                                 \n",
      " dropout_9 (Dropout)         (None, 100)               0         \n",
      "                                                                 \n",
      " dense_9 (Dense)             (None, 10)                1010      \n",
      "                                                                 \n",
      "=================================================================\n",
      "Total params: 31,510\n",
      "Trainable params: 31,510\n",
      "Non-trainable params: 0\n",
      "_________________________________________________________________\n"
     ]
    },
    {
     "name": "stderr",
     "output_type": "stream",
     "text": [
      "C:\\Users\\pc\\anaconda3\\lib\\site-packages\\keras\\optimizers\\optimizer_v2\\gradient_descent.py:108: UserWarning: The `lr` argument is deprecated, use `learning_rate` instead.\n",
      "  super(SGD, self).__init__(name, **kwargs)\n"
     ]
    }
   ],
   "source": [
    "model = Sequential()\n",
    "model.add(Conv2D(16, kernel_size=(3,3), #couche convolution 3x3\n",
    "                activation = 'relu',\n",
    "                input_shape = input_shape))\n",
    "model.add(MaxPooling2D(pool_size=(2,2))) #Pooling 2x2 qui récupère la valeur max\n",
    "\n",
    "model.add(Conv2D(16, kernel_size=(3,3), #couche convolution 3x3\n",
    "                activation = 'relu',\n",
    "                input_shape = input_shape))\n",
    "model.add(Conv2D(16, kernel_size=(3,3), #couche convolution 3x3\n",
    "                activation = 'relu',\n",
    "                input_shape = input_shape))\n",
    "model.add(MaxPooling2D(pool_size=(2,2))) #Pooling 2x2 qui récupère la valeur max\n",
    "model.add(Dropout(0.25))\n",
    "model.add(Flatten())\n",
    "model.add(Dense(100, activation ='relu'))\n",
    "model.add(Dropout(0.5))\n",
    "model.add(Dense(nb_classes, activation = 'softmax'))\n",
    "\n",
    "sgd = SGD(lr=0.1, decay=1e-6, momentum=0.9, nesterov=True)\n",
    "model.compile(loss='categorical_crossentropy', metrics=['accuracy'], optimizer=sgd)\n",
    "\n",
    "model.summary()"
   ]
  },
  {
   "cell_type": "code",
   "execution_count": 33,
   "id": "8b1512d0",
   "metadata": {},
   "outputs": [
    {
     "name": "stdout",
     "output_type": "stream",
     "text": [
      "Epoch 1/40\n",
      "20/20 [==============================] - 2s 101ms/step - loss: 1.9926 - accuracy: 0.2888 - val_loss: 0.7516 - val_accuracy: 0.7697\n",
      "Epoch 2/40\n",
      "20/20 [==============================] - 2s 95ms/step - loss: 0.8441 - accuracy: 0.7278 - val_loss: 0.2676 - val_accuracy: 0.9241\n",
      "Epoch 3/40\n",
      "20/20 [==============================] - 2s 87ms/step - loss: 0.4096 - accuracy: 0.8766 - val_loss: 0.1758 - val_accuracy: 0.9489\n",
      "Epoch 4/40\n",
      "20/20 [==============================] - 2s 86ms/step - loss: 0.3147 - accuracy: 0.9027 - val_loss: 0.1374 - val_accuracy: 0.9599\n",
      "Epoch 5/40\n",
      "20/20 [==============================] - 2s 91ms/step - loss: 0.2626 - accuracy: 0.9210 - val_loss: 0.1116 - val_accuracy: 0.9669\n",
      "Epoch 6/40\n",
      "20/20 [==============================] - 2s 96ms/step - loss: 0.2232 - accuracy: 0.9333 - val_loss: 0.1022 - val_accuracy: 0.9674\n",
      "Epoch 7/40\n",
      "20/20 [==============================] - 2s 96ms/step - loss: 0.2061 - accuracy: 0.9376 - val_loss: 0.0928 - val_accuracy: 0.9733\n",
      "Epoch 8/40\n",
      "20/20 [==============================] - 2s 91ms/step - loss: 0.1861 - accuracy: 0.9435 - val_loss: 0.0941 - val_accuracy: 0.9717\n",
      "Epoch 9/40\n",
      "20/20 [==============================] - 2s 90ms/step - loss: 0.1601 - accuracy: 0.9527 - val_loss: 0.0803 - val_accuracy: 0.9753\n",
      "Epoch 10/40\n",
      "20/20 [==============================] - 2s 87ms/step - loss: 0.1576 - accuracy: 0.9531 - val_loss: 0.0764 - val_accuracy: 0.9760\n",
      "Epoch 11/40\n",
      "20/20 [==============================] - 2s 93ms/step - loss: 0.1477 - accuracy: 0.9551 - val_loss: 0.0737 - val_accuracy: 0.9771\n",
      "Epoch 12/40\n",
      "20/20 [==============================] - 2s 93ms/step - loss: 0.1464 - accuracy: 0.9558 - val_loss: 0.0694 - val_accuracy: 0.9779\n",
      "Epoch 13/40\n",
      "20/20 [==============================] - 2s 102ms/step - loss: 0.1309 - accuracy: 0.9590 - val_loss: 0.0695 - val_accuracy: 0.9773\n",
      "Epoch 14/40\n",
      "20/20 [==============================] - 2s 98ms/step - loss: 0.1278 - accuracy: 0.9612 - val_loss: 0.0701 - val_accuracy: 0.9781\n",
      "Epoch 15/40\n",
      "20/20 [==============================] - 2s 92ms/step - loss: 0.1275 - accuracy: 0.9604 - val_loss: 0.0630 - val_accuracy: 0.9808\n",
      "Epoch 16/40\n",
      "20/20 [==============================] - 2s 92ms/step - loss: 0.1149 - accuracy: 0.9646 - val_loss: 0.0693 - val_accuracy: 0.9786\n",
      "Epoch 17/40\n",
      "20/20 [==============================] - 2s 96ms/step - loss: 0.1140 - accuracy: 0.9659 - val_loss: 0.0628 - val_accuracy: 0.9798\n",
      "Epoch 18/40\n",
      "20/20 [==============================] - 2s 92ms/step - loss: 0.1089 - accuracy: 0.9682 - val_loss: 0.0611 - val_accuracy: 0.9807\n",
      "Epoch 19/40\n",
      "20/20 [==============================] - 2s 94ms/step - loss: 0.1125 - accuracy: 0.9652 - val_loss: 0.0613 - val_accuracy: 0.9806\n",
      "Epoch 20/40\n",
      "20/20 [==============================] - 2s 91ms/step - loss: 0.1050 - accuracy: 0.9662 - val_loss: 0.0595 - val_accuracy: 0.9802\n",
      "Epoch 21/40\n",
      "20/20 [==============================] - 2s 87ms/step - loss: 0.0991 - accuracy: 0.9681 - val_loss: 0.0580 - val_accuracy: 0.9820\n",
      "Epoch 22/40\n",
      "20/20 [==============================] - 2s 90ms/step - loss: 0.0974 - accuracy: 0.9677 - val_loss: 0.0570 - val_accuracy: 0.9822\n",
      "Epoch 23/40\n",
      "20/20 [==============================] - 2s 90ms/step - loss: 0.0931 - accuracy: 0.9707 - val_loss: 0.0568 - val_accuracy: 0.9810\n",
      "Epoch 24/40\n",
      "20/20 [==============================] - 2s 88ms/step - loss: 0.0897 - accuracy: 0.9730 - val_loss: 0.0582 - val_accuracy: 0.9807\n",
      "Epoch 25/40\n",
      "20/20 [==============================] - 2s 88ms/step - loss: 0.0905 - accuracy: 0.9724 - val_loss: 0.0542 - val_accuracy: 0.9831\n",
      "Epoch 26/40\n",
      "20/20 [==============================] - 2s 90ms/step - loss: 0.0863 - accuracy: 0.9731 - val_loss: 0.0561 - val_accuracy: 0.9823\n",
      "Epoch 27/40\n",
      "20/20 [==============================] - 2s 92ms/step - loss: 0.0783 - accuracy: 0.9741 - val_loss: 0.0538 - val_accuracy: 0.9828\n",
      "Epoch 28/40\n",
      "20/20 [==============================] - 2s 95ms/step - loss: 0.0785 - accuracy: 0.9742 - val_loss: 0.0547 - val_accuracy: 0.9836\n",
      "Epoch 29/40\n",
      "20/20 [==============================] - 2s 91ms/step - loss: 0.0768 - accuracy: 0.9752 - val_loss: 0.0547 - val_accuracy: 0.9837\n",
      "Epoch 30/40\n",
      "20/20 [==============================] - 2s 91ms/step - loss: 0.0809 - accuracy: 0.9724 - val_loss: 0.0486 - val_accuracy: 0.9845\n",
      "Epoch 31/40\n",
      "20/20 [==============================] - 2s 89ms/step - loss: 0.0775 - accuracy: 0.9741 - val_loss: 0.0633 - val_accuracy: 0.9812\n",
      "Epoch 32/40\n",
      "20/20 [==============================] - 2s 89ms/step - loss: 0.0739 - accuracy: 0.9765 - val_loss: 0.0519 - val_accuracy: 0.9841\n",
      "Epoch 33/40\n",
      "20/20 [==============================] - 2s 89ms/step - loss: 0.0720 - accuracy: 0.9780 - val_loss: 0.0508 - val_accuracy: 0.9842\n",
      "Epoch 34/40\n",
      "20/20 [==============================] - 2s 91ms/step - loss: 0.0780 - accuracy: 0.9741 - val_loss: 0.0488 - val_accuracy: 0.9848\n",
      "Epoch 35/40\n",
      "20/20 [==============================] - 2s 95ms/step - loss: 0.0718 - accuracy: 0.9766 - val_loss: 0.0549 - val_accuracy: 0.9837\n",
      "Epoch 36/40\n",
      "20/20 [==============================] - 2s 91ms/step - loss: 0.0742 - accuracy: 0.9766 - val_loss: 0.0521 - val_accuracy: 0.9845\n",
      "Epoch 37/40\n",
      "20/20 [==============================] - 2s 94ms/step - loss: 0.0701 - accuracy: 0.9793 - val_loss: 0.0490 - val_accuracy: 0.9843\n",
      "Epoch 38/40\n",
      "20/20 [==============================] - 2s 93ms/step - loss: 0.0668 - accuracy: 0.9792 - val_loss: 0.0538 - val_accuracy: 0.9851\n",
      "Epoch 39/40\n",
      "20/20 [==============================] - 2s 90ms/step - loss: 0.0616 - accuracy: 0.9791 - val_loss: 0.0513 - val_accuracy: 0.9854\n",
      "Epoch 40/40\n",
      "20/20 [==============================] - 2s 93ms/step - loss: 0.0725 - accuracy: 0.9764 - val_loss: 0.0488 - val_accuracy: 0.9854\n"
     ]
    }
   ],
   "source": [
    "batch = 512\n",
    "epochs = 40\n",
    "history = model.fit(X_train, y_train, \n",
    "          batch_size = batch, \n",
    "          epochs = epochs, \n",
    "          verbose=1, \n",
    "          validation_data=(X_test, y_test))"
   ]
  },
  {
   "cell_type": "code",
   "execution_count": 34,
   "id": "a555f2eb",
   "metadata": {},
   "outputs": [
    {
     "name": "stdout",
     "output_type": "stream",
     "text": [
      "The accuracy on the best set is 98.54000210762024 %\n"
     ]
    },
    {
     "data": {
      "image/png": "[encoded data removed]",
      "text/plain": [
       "<Figure size 432x288 with 1 Axes>"
      ]
     },
     "metadata": {},
     "output_type": "display_data"
    },
    {
     "name": "stdout",
     "output_type": "stream",
     "text": [
      "1/1 [==============================] - 0s 56ms/step\n",
      "Le chiffre reconnu est : 8\n",
      "Le chiffre à reconnaitre est : 8\n"
     ]
    }
   ],
   "source": [
    "def plot_mnist_digit(image):\n",
    "    \"\"\"plot a single MNIST image.\"\"\"\n",
    "    fig = plt.figure()\n",
    "    ax = fig.add_subplot(1 ,1 ,1)\n",
    "    ax.matshow(image, cmap = matplotlib.cm.binary)\n",
    "    plt.xticks(np.array([]))\n",
    "    plt.yticks(np.array([]))\n",
    "    plt.show()\n",
    "loss, acc = model.evaluate(X_test, y_test, verbose =0)\n",
    "index = random.randint(1,subset)\n",
    "print(\"The accuracy on the best set is\", (acc*100),\"%\")\n",
    "plot_mnist_digit(X_test_base[index])\n",
    "cl = np.argmax(model.predict(X_test[index].reshape((1,28,28,1))), axis=1)\n",
    "\n",
    "print(\"Le chiffre reconnu est :\", cl[0])\n",
    "print(\"Le chiffre à reconnaitre est :\", np.argmax(y_test[index]))\n",
    "#Meilleur score obtenu est de 98.54%"
   ]
  },
  {
   "cell_type": "code",
   "execution_count": 35,
   "id": "bc16b621",
   "metadata": {},
   "outputs": [
    {
     "data": {
      "image/png": "[encoded data removed]",
      "text/plain": [
       "<Figure size 432x288 with 1 Axes>"
      ]
     },
     "metadata": {
      "needs_background": "light"
     },
     "output_type": "display_data"
    },
    {
     "data": {
      "image/png": "[encoded data removed]",
      "text/plain": [
       "<Figure size 432x288 with 1 Axes>"
      ]
     },
     "metadata": {
      "needs_background": "light"
     },
     "output_type": "display_data"
    }
   ],
   "source": [
    "import pandas as pd\n",
    "\n",
    "history_frame = pd.DataFrame(history.history)\n",
    "history_frame.loc[2:, ['loss', 'val_loss']].plot()\n",
    "history_frame.loc[2:, ['accuracy', 'val_accuracy']].plot();"
   ]
  },
  {
   "cell_type": "code",
   "execution_count": null,
   "id": "efe9c1f7",
   "metadata": {},
   "outputs": [],
   "source": []
  }
 ],
 "metadata": {
  "kernelspec": {
   "display_name": "Python 3 (ipykernel)",
   "language": "python",
   "name": "python3"
  },
  "language_info": {
   "codemirror_mode": {
    "name": "ipython",
    "version": 3
   },
   "file_extension": ".py",
   "mimetype": "text/x-python",
   "name": "python",
   "nbconvert_exporter": "python",
   "pygments_lexer": "ipython3",
   "version": "3.7.13"
  }
 },
 "nbformat": 4,
 "nbformat_minor": 5
}
