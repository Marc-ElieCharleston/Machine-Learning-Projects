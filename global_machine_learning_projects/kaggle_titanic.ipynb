{
 "cells": [
  {
   "cell_type": "code",
   "execution_count": null,
   "id": "9825d47b",
   "metadata": {
    "papermill": {
     "duration": 0.011141,
     "end_time": "2022-04-30T11:28:40.549799",
     "exception": false,
     "start_time": "2022-04-30T11:28:40.538658",
     "status": "completed"
    },
    "tags": []
   },
   "outputs": [],
   "source": []
  },
  {
   "cell_type": "code",
   "execution_count": 1,
   "id": "bdc08705",
   "metadata": {
    "_cell_guid": "b1076dfc-b9ad-4769-8c92-a6c4dae69d19",
    "_uuid": "8f2839f25d086af736a60e9eeb907d3b93b6e0e5",
    "execution": {
     "iopub.execute_input": "2022-04-30T11:28:40.572512Z",
     "iopub.status.busy": "2022-04-30T11:28:40.571655Z",
     "iopub.status.idle": "2022-04-30T11:28:40.594165Z",
     "shell.execute_reply": "2022-04-30T11:28:40.592466Z"
    },
    "papermill": {
     "duration": 0.036813,
     "end_time": "2022-04-30T11:28:40.596538",
     "exception": false,
     "start_time": "2022-04-30T11:28:40.559725",
     "status": "completed"
    },
    "tags": []
   },
   "outputs": [
    {
     "name": "stdout",
     "output_type": "stream",
     "text": [
      "/kaggle/input/titanic/train.csv\n",
      "/kaggle/input/titanic/test.csv\n",
      "/kaggle/input/titanic/gender_submission.csv\n",
      "/kaggle/input/d/datasets/rahulsah06/titanic/train.csv\n",
      "/kaggle/input/d/datasets/rahulsah06/titanic/test.csv\n",
      "/kaggle/input/d/datasets/rahulsah06/titanic/gender_submission.csv\n"
     ]
    }
   ],
   "source": [
    "# This Python 3 environment comes with many helpful analytics libraries installed\n",
    "# It is defined by the kaggle/python Docker image: https://github.com/kaggle/docker-python\n",
    "# For example, here's several helpful packages to load\n",
    "\n",
    "import numpy as np # linear algebra\n",
    "import pandas as pd # data processing, CSV file I/O (e.g. pd.read_csv)\n",
    "\n",
    "# Input data files are available in the read-only \"../input/\" directory\n",
    "# For example, running this (by clicking run or pressing Shift+Enter) will list all files under the input directory\n",
    "\n",
    "import os\n",
    "for dirname, _, filenames in os.walk('/kaggle/input'):\n",
    "    for filename in filenames:\n",
    "        print(os.path.join(dirname, filename))\n",
    "\n",
    "# You can write up to 20GB to the current directory (/kaggle/working/) that gets preserved as output when you create a version using \"Save & Run All\" \n",
    "# You can also write temporary files to /kaggle/temp/, but they won't be saved outside of the current session"
   ]
  },
  {
   "cell_type": "code",
   "execution_count": 2,
   "id": "d153c89a",
   "metadata": {
    "execution": {
     "iopub.execute_input": "2022-04-30T11:28:40.619087Z",
     "iopub.status.busy": "2022-04-30T11:28:40.618367Z",
     "iopub.status.idle": "2022-04-30T11:28:40.648314Z",
     "shell.execute_reply": "2022-04-30T11:28:40.647529Z"
    },
    "papermill": {
     "duration": 0.044079,
     "end_time": "2022-04-30T11:28:40.650938",
     "exception": false,
     "start_time": "2022-04-30T11:28:40.606859",
     "status": "completed"
    },
    "tags": []
   },
   "outputs": [],
   "source": [
    "train_data = pd.read_csv(\"/kaggle/input/titanic/train.csv\")\n",
    "\n",
    "test_data = pd.read_csv(\"/kaggle/input/titanic/test.csv\")\n"
   ]
  },
  {
   "cell_type": "code",
   "execution_count": 3,
   "id": "f5e59e20",
   "metadata": {
    "execution": {
     "iopub.execute_input": "2022-04-30T11:28:40.673948Z",
     "iopub.status.busy": "2022-04-30T11:28:40.673289Z",
     "iopub.status.idle": "2022-04-30T11:28:42.000735Z",
     "shell.execute_reply": "2022-04-30T11:28:41.999612Z"
    },
    "papermill": {
     "duration": 1.342317,
     "end_time": "2022-04-30T11:28:42.003752",
     "exception": false,
     "start_time": "2022-04-30T11:28:40.661435",
     "status": "completed"
    },
    "tags": []
   },
   "outputs": [],
   "source": [
    "from sklearn.ensemble import RandomForestClassifier\n",
    "from sklearn.metrics import mean_absolute_error\n",
    "from sklearn.model_selection import train_test_split"
   ]
  },
  {
   "cell_type": "code",
   "execution_count": 4,
   "id": "ec8bc658",
   "metadata": {
    "execution": {
     "iopub.execute_input": "2022-04-30T11:28:42.026485Z",
     "iopub.status.busy": "2022-04-30T11:28:42.026171Z",
     "iopub.status.idle": "2022-04-30T11:28:42.051098Z",
     "shell.execute_reply": "2022-04-30T11:28:42.050193Z"
    },
    "papermill": {
     "duration": 0.039471,
     "end_time": "2022-04-30T11:28:42.053794",
     "exception": false,
     "start_time": "2022-04-30T11:28:42.014323",
     "status": "completed"
    },
    "tags": []
   },
   "outputs": [],
   "source": [
    "# target and features creation\n",
    "y = train_data[\"Survived\"]\n",
    "\n",
    "features = [\"Pclass\",\"Sex\",\"SibSp\",\"Parch\"]\n",
    "\n",
    "X = pd.get_dummies(train_data[features])\n",
    "X_test = pd.get_dummies(test_data[features])"
   ]
  },
  {
   "cell_type": "code",
   "execution_count": 5,
   "id": "f1f5c2aa",
   "metadata": {
    "execution": {
     "iopub.execute_input": "2022-04-30T11:28:42.076915Z",
     "iopub.status.busy": "2022-04-30T11:28:42.076261Z",
     "iopub.status.idle": "2022-04-30T11:28:42.080181Z",
     "shell.execute_reply": "2022-04-30T11:28:42.079509Z"
    },
    "jupyter": {
     "source_hidden": true
    },
    "papermill": {
     "duration": 0.017911,
     "end_time": "2022-04-30T11:28:42.082240",
     "exception": false,
     "start_time": "2022-04-30T11:28:42.064329",
     "status": "completed"
    },
    "tags": []
   },
   "outputs": [],
   "source": [
    "# train_X, val_X, train_y, val_y = train_test_split(X, y, random_state=1)\n",
    "\n",
    "# train_model = RandomForestRegressor(random_state=1)\n",
    "\n",
    "# train_model.fit(train_X,train_y)\n",
    "\n",
    "# train_predict = train_model.predict(val_X)\n",
    "\n",
    "# train_error = mean_absolute_error(train_predict, val_y)\n",
    "# print(\"Mon taux d'erreur est de :\", train_error)\n"
   ]
  },
  {
   "cell_type": "code",
   "execution_count": 6,
   "id": "b804d45a",
   "metadata": {
    "execution": {
     "iopub.execute_input": "2022-04-30T11:28:42.104815Z",
     "iopub.status.busy": "2022-04-30T11:28:42.104527Z",
     "iopub.status.idle": "2022-04-30T11:28:42.314521Z",
     "shell.execute_reply": "2022-04-30T11:28:42.313715Z"
    },
    "papermill": {
     "duration": 0.224762,
     "end_time": "2022-04-30T11:28:42.317222",
     "exception": false,
     "start_time": "2022-04-30T11:28:42.092460",
     "status": "completed"
    },
    "tags": []
   },
   "outputs": [
    {
     "name": "stdout",
     "output_type": "stream",
     "text": [
      "[0 1 0 0 1 0 1 0 1 0 0 0 1 0 1 1 0 0 1 1 0 0 1 0 1 0 1 0 0 0 0 0 0 0 0 0 1\n",
      " 1 0 0 0 0 0 1 1 0 0 0 1 1 0 0 1 1 0 0 0 0 0 1 0 0 0 1 1 1 1 0 0 1 1 0 1 0\n",
      " 1 0 0 1 0 1 0 0 0 0 0 0 1 1 1 0 1 0 1 0 0 0 1 0 1 0 1 0 0 0 1 0 0 0 0 0 0\n",
      " 1 1 1 1 0 0 1 0 1 1 0 1 0 0 1 0 1 0 0 0 0 0 0 0 0 0 0 1 0 0 1 1 0 0 0 0 0\n",
      " 0 0 1 0 0 1 0 0 1 1 0 1 1 0 1 0 0 1 0 0 1 1 0 0 0 0 0 1 1 0 1 1 0 0 1 0 1\n",
      " 0 1 0 0 0 0 0 0 0 1 0 0 1 0 1 1 0 0 1 0 0 1 0 1 0 0 0 0 1 0 0 1 0 1 0 1 0\n",
      " 1 0 1 1 0 1 0 0 0 1 0 0 0 0 0 0 1 1 1 1 0 0 0 0 1 0 1 1 1 0 0 0 0 0 0 0 1\n",
      " 0 0 0 1 1 0 0 0 0 1 0 0 0 1 1 0 1 0 0 0 0 1 0 1 1 1 0 0 0 0 0 0 1 0 0 0 0\n",
      " 1 0 0 0 0 0 0 0 1 1 1 0 0 1 0 0 0 1 1 1 0 0 0 0 0 0 0 0 1 0 1 0 0 0 1 0 0\n",
      " 1 0 0 0 0 0 0 0 0 0 1 0 1 0 1 0 1 1 0 0 0 0 0 1 0 0 1 0 1 1 0 1 0 0 1 1 0\n",
      " 0 1 0 0 1 1 1 0 0 0 0 0 1 1 0 1 0 0 0 0 0 1 0 0 0 1 0 1 0 0 1 0 1 0 0 0 0\n",
      " 0 1 1 1 1 1 0 1 0 0 0]\n"
     ]
    }
   ],
   "source": [
    "model = RandomForestClassifier(random_state=1, max_depth = 5, n_estimators = 100)\n",
    "\n",
    "model.fit(X,y)\n",
    "\n",
    "predict = model.predict(X_test)\n",
    "print(predict)\n",
    "\n"
   ]
  },
  {
   "cell_type": "code",
   "execution_count": 7,
   "id": "71c85225",
   "metadata": {
    "execution": {
     "iopub.execute_input": "2022-04-30T11:28:42.341452Z",
     "iopub.status.busy": "2022-04-30T11:28:42.341173Z",
     "iopub.status.idle": "2022-04-30T11:28:42.349315Z",
     "shell.execute_reply": "2022-04-30T11:28:42.348748Z"
    },
    "papermill": {
     "duration": 0.021601,
     "end_time": "2022-04-30T11:28:42.351539",
     "exception": false,
     "start_time": "2022-04-30T11:28:42.329938",
     "status": "completed"
    },
    "tags": []
   },
   "outputs": [],
   "source": [
    "output = pd.DataFrame({'PassengerId': test_data.PassengerId,\n",
    "                       'Survived': predict})\n",
    "output.to_csv('submission.csv', index=False)"
   ]
  }
 ],
 "metadata": {
  "kernelspec": {
   "display_name": "Python 3",
   "language": "python",
   "name": "python3"
  },
  "language_info": {
   "codemirror_mode": {
    "name": "ipython",
    "version": 3
   },
   "file_extension": ".py",
   "mimetype": "text/x-python",
   "name": "python",
   "nbconvert_exporter": "python",
   "pygments_lexer": "ipython3",
   "version": "3.7.12"
  },
  "papermill": {
   "default_parameters": {},
   "duration": 13.105561,
   "end_time": "2022-04-30T11:28:43.386073",
   "environment_variables": {},
   "exception": null,
   "input_path": "__notebook__.ipynb",
   "output_path": "__notebook__.ipynb",
   "parameters": {},
   "start_time": "2022-04-30T11:28:30.280512",
   "version": "2.3.4"
  }
 },
 "nbformat": 4,
 "nbformat_minor": 5
}
